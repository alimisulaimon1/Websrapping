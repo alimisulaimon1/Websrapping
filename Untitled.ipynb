{
 "cells": [
  {
   "cell_type": "code",
   "execution_count": 2,
   "id": "ce063234",
   "metadata": {},
   "outputs": [],
   "source": [
    "from bs4 import BeautifulSoup\n",
    "import requests\n",
    "from csv import writer\n",
    "\n",
    "url=\"https://www.zoopla.co.uk/to-rent/property/darlington/?price_frequency=per_month&q=Darlington%2C%20County%20Durham&search_source=home\"\n",
    "page=requests.get(url)\n",
    "soup=BeautifulSoup(page.content, 'html.parser')\n"
   ]
  },
  {
   "cell_type": "code",
   "execution_count": 5,
   "id": "5cc19f16",
   "metadata": {},
   "outputs": [
    {
     "name": "stdout",
     "output_type": "stream",
     "text": [
      "['£370 pcm', '£85 pw', '2 bed terraced house to rent', 'Eldon Street, Darlington DL3']\n",
      "['£450 pcm', '£104 pw', '2 bed flat to rent', '121 Salisbury Terrace, Darlington DL3']\n",
      "['£475 pcm', '£110 pw', '2 bed flat to rent', 'Scargill Court, Darlington DL1']\n",
      "['£525 pcm', '£121 pw', '2 bed terraced house to rent', 'Salisbury Terrace, Darlington DL3']\n",
      "['£525 pcm', '£121 pw', '2 bed property to rent', 'Stanhope Road South, Darlington DL3']\n",
      "['£475 pcm', '£110 pw', '2 bed bungalow to rent', 'Lowson Street, Darlington, County Durham DL3']\n",
      "['£550 pcm', '£127 pw', '2 bed flat to rent', 'Uplands Road, Darlington DL3']\n",
      "['£39 pcm', '£9 pw', 'Property to rent', 'Spruce Grove, Darlington DL3']\n",
      "['£495 pcm', '£114 pw', '2 bed terraced house to rent', 'Rydal Road, Darlington DL1']\n",
      "['£400 pcm', '£92 pw', '1 bed flat to rent', 'Bondgate, Darlington DL3']\n",
      "['£625 pcm', '£144 pw', '3 bed property to rent', 'Surtees Street, Darlington DL3']\n",
      "['£600 pcm', '£138 pw', '2 bed property to rent', 'John Williams Boulevard, Darlington DL1']\n",
      "['£500 pcm', '£115 pw', '2 bed terraced house to rent', 'Wilson Street, Darlington DL3']\n",
      "['£800 pcm', '£185 pw', '3 bed detached house to rent', 'Meadowsweet Lane, Darlington DL1']\n",
      "['£595 pcm', '£137 pw', '2 bed terraced house to rent', 'Eastbourne Road, Darlington DL1']\n",
      "['£800 pcm', '£185 pw', '3 bed semi-detached house to rent', 'Highbury Road, Darlington DL3']\n",
      "['£475 pcm', '£110 pw', '2 bed terraced house to rent', 'Kitchener Street, Darlington DL3']\n",
      "['£1,750 pcm', '£404 pw', '2 bed terraced house to rent', 'Trafalgar Terrace, Darlington DL3']\n",
      "['£850 pcm', '£196 pw', '3 bed terraced house to rent', 'Quaker Lane, Darlington DL1']\n",
      "['£850 pcm', '£196 pw', '3 bed property to rent', 'Amberley Grove, Faverdale, Darlington DL3']\n",
      "['£450 pcm', '£104 pw', '2 bed terraced house to rent', 'Barningham Street, Darlington DL3']\n",
      "['£425 pcm', '£98 pw', '2 bed terraced house to rent', 'Beaconsfield Street, Darlington DL3']\n",
      "['£450 pcm', '£104 pw', '2 bed terraced house to rent', 'St. Johns Crescent, Darlington DL1']\n",
      "['£475 pcm', '£110 pw', '2 bed flat to rent', 'West Auckland Road, Darlington DL3']\n",
      "['£500 pcm', '£115 pw', '2 bed flat to rent', 'Westmoreland Court, Darlington DL3']\n"
     ]
    }
   ],
   "source": [
    "\n",
    "lists= soup.find_all('div', class_=\"css-1pjvtfc e1xegeql1\")\n",
    "with open('housing.csv', 'w', encoding='utf8', newline='') as f:\n",
    "    thewriter=writer(f)\n",
    "    header = ['price per months', 'price per week', 'number of bed', 'location']\n",
    "    thewriter.writerow(header)\n",
    "    \n",
    "    for list in lists:\n",
    "        price_permonth= list.find('p', class_=\"css-1w7anck e1xegeql31\").text\n",
    "        price_perweek= list.find('p', class_=\"css-1fkphca e1xegeql32\").text\n",
    "        number_ofbed=list.find('h2', class_=\"css-sbwlc4-Heading2 e1xegeql14\").text\n",
    "        location=list.find('p', class_=\"css-5agpw4 e1xegeql33\").text\n",
    "        info=[price_permonth, price_perweek, number_ofbed, location]\n",
    "        thewriter.writerow(info)\n",
    "        print(info)"
   ]
  },
  {
   "cell_type": "code",
   "execution_count": null,
   "id": "4a722928",
   "metadata": {},
   "outputs": [],
   "source": []
  }
 ],
 "metadata": {
  "kernelspec": {
   "display_name": "Python 3 (ipykernel)",
   "language": "python",
   "name": "python3"
  },
  "language_info": {
   "codemirror_mode": {
    "name": "ipython",
    "version": 3
   },
   "file_extension": ".py",
   "mimetype": "text/x-python",
   "name": "python",
   "nbconvert_exporter": "python",
   "pygments_lexer": "ipython3",
   "version": "3.9.12"
  }
 },
 "nbformat": 4,
 "nbformat_minor": 5
}
